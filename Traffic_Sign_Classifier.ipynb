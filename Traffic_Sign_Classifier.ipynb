{
 "cells": [
  {
   "cell_type": "markdown",
   "metadata": {
    "deletable": true,
    "editable": true
   },
   "source": [
    "# Self-Driving Car Engineer Nanodegree\n",
    "\n",
    "## Deep Learning\n",
    "\n",
    "## Project: Build a Traffic Sign Recognition Classifier\n",
    "\n",
    "In this notebook, a template is provided for you to implement your functionality in stages, which is required to successfully complete this project. If additional code is required that cannot be included in the notebook, be sure that the Python code is successfully imported and included in your submission if necessary. \n",
    "\n",
    "> **Note**: Once you have completed all of the code implementations, you need to finalize your work by exporting the iPython Notebook as an HTML document. Before exporting the notebook to html, all of the code cells need to have been run so that reviewers can see the final implementation and output. You can then export the notebook by using the menu above and navigating to  \\n\",\n",
    "    \"**File -> Download as -> HTML (.html)**. Include the finished document along with this notebook as your submission. \n",
    "\n",
    "In addition to implementing code, there is a writeup to complete. The writeup should be completed in a separate file, which can be either a markdown file or a pdf document. There is a [write up template](https://github.com/udacity/CarND-Traffic-Sign-Classifier-Project/blob/master/writeup_template.md) that can be used to guide the writing process. Completing the code template and writeup template will cover all of the [rubric points](https://review.udacity.com/#!/rubrics/481/view) for this project.\n",
    "\n",
    "The [rubric](https://review.udacity.com/#!/rubrics/481/view) contains \"Stand Out Suggestions\" for enhancing the project beyond the minimum requirements. The stand out suggestions are optional. If you decide to pursue the \"stand out suggestions\", you can include the code in this Ipython notebook and also discuss the results in the writeup file.\n",
    "\n",
    "\n",
    ">**Note:** Code and Markdown cells can be executed using the **Shift + Enter** keyboard shortcut. In addition, Markdown cells can be edited by typically double-clicking the cell to enter edit mode."
   ]
  },
  {
   "cell_type": "markdown",
   "metadata": {
    "deletable": true,
    "editable": true
   },
   "source": [
    "---\n",
    "## Step 0: Load The Data"
   ]
  },
  {
   "cell_type": "code",
   "execution_count": 1,
   "metadata": {
    "collapsed": false,
    "deletable": true,
    "editable": true,
    "scrolled": true
   },
   "outputs": [
    {
     "name": "stdout",
     "output_type": "stream",
     "text": [
      "\u001b[0m\u001b[01;34m93_acc\u001b[0m/          README.md                          \u001b[01;31mtraffic-signs-data.zip\u001b[0m\r\n",
      "\u001b[01;34m94_acc\u001b[0m/          signnames.csv                      \u001b[01;35mvisualize_cnn.png\u001b[0m\r\n",
      "\u001b[01;34m98_acc\u001b[0m/          traffic_model.data-00000-of-00001  writeup_template.md\r\n",
      "checkpoint       traffic_model.index                X_train.npy\r\n",
      "environment.yml  traffic_model.meta                 y_train.npy\r\n",
      "\u001b[01;34mexamples\u001b[0m/        \u001b[01;32mTraffic_Sign_Classifier.ipynb\u001b[0m*\r\n",
      "\u001b[01;34mimgaug\u001b[0m/          \u001b[01;34mtraffic-signs-data\u001b[0m/\r\n"
     ]
    }
   ],
   "source": [
    "ls"
   ]
  },
  {
   "cell_type": "code",
   "execution_count": 2,
   "metadata": {
    "collapsed": false,
    "deletable": true,
    "editable": true,
    "scrolled": true
   },
   "outputs": [
    {
     "name": "stdout",
     "output_type": "stream",
     "text": [
      "test.p  train.p  valid.p\r\n"
     ]
    }
   ],
   "source": [
    "ls traffic-signs-data"
   ]
  },
  {
   "cell_type": "code",
   "execution_count": 3,
   "metadata": {
    "collapsed": false,
    "deletable": true,
    "editable": true,
    "scrolled": true
   },
   "outputs": [],
   "source": [
    "# Load pickled data\n",
    "import pickle\n",
    "\n",
    "# TODO: Fill this in based on where you saved the training and testing data\n",
    "\n",
    "folder_name = 'traffic-signs-data/'\n",
    "\n",
    "training_file = folder_name + 'train.p'\n",
    "validation_file= folder_name + 'valid.p'\n",
    "testing_file = folder_name + 'test.p'\n",
    "\n",
    "with open(training_file, mode='rb') as f:\n",
    "    train = pickle.load(f)\n",
    "with open(validation_file, mode='rb') as f:\n",
    "    valid = pickle.load(f)\n",
    "with open(testing_file, mode='rb') as f:\n",
    "    test = pickle.load(f)\n",
    "    \n",
    "X_train, y_train = train['features'], train['labels']\n",
    "X_valid, y_valid = valid['features'], valid['labels']\n",
    "X_test, y_test = test['features'], test['labels']"
   ]
  },
  {
   "cell_type": "markdown",
   "metadata": {
    "deletable": true,
    "editable": true
   },
   "source": [
    "# Check the distribution of image labels among classes"
   ]
  },
  {
   "cell_type": "code",
   "execution_count": 4,
   "metadata": {
    "collapsed": false,
    "deletable": true,
    "editable": true,
    "scrolled": true
   },
   "outputs": [
    {
     "name": "stdout",
     "output_type": "stream",
     "text": [
      "Populating the interactive namespace from numpy and matplotlib\n"
     ]
    },
    {
     "name": "stderr",
     "output_type": "stream",
     "text": [
      "/home/ubuntu/anaconda3/envs/sdc/lib/python3.6/site-packages/IPython/core/magics/pylab.py:161: UserWarning: pylab import has clobbered these variables: ['test', 'f']\n",
      "`%matplotlib` prevents importing * from pylab and numpy\n",
      "  \"\\n`%matplotlib` prevents importing * from pylab and numpy\"\n"
     ]
    }
   ],
   "source": [
    "### Data exploration visualization code goes here.\n",
    "### Feel free to use as many code cells as needed.\n",
    "import matplotlib.pyplot as plt\n",
    "import pandas as pd\n",
    "import numpy as np\n",
    "# Visualizations will be shown in the notebook.\n",
    "%matplotlib inline\n",
    "%pylab inline\n",
    "pylab.rcParams['figure.figsize'] = (12, 6)"
   ]
  },
  {
   "cell_type": "code",
   "execution_count": 5,
   "metadata": {
    "collapsed": false,
    "deletable": true,
    "editable": true,
    "scrolled": true
   },
   "outputs": [],
   "source": [
    "from collections import Counter\n",
    "cc = Counter(y_train)\n",
    "x,y = zip(*cc.items())"
   ]
  },
  {
   "cell_type": "code",
   "execution_count": 6,
   "metadata": {
    "collapsed": false,
    "deletable": true,
    "editable": true
   },
   "outputs": [
    {
     "data": {
      "text/plain": [
       "<Container object of 43 artists>"
      ]
     },
     "execution_count": 6,
     "metadata": {},
     "output_type": "execute_result"
    },
    {
     "data": {
      "image/png": "[encoded data removed]",
      "text/plain": [
       "<matplotlib.figure.Figure at 0x7fa0fd769f28>"
      ]
     },
     "metadata": {},
     "output_type": "display_data"
    }
   ],
   "source": [
    "plt.bar(x, y, 0.9)"
   ]
  },
  {
   "cell_type": "markdown",
   "metadata": {
    "deletable": true,
    "editable": true
   },
   "source": [
    "# Augment data using imgaug library"
   ]
  },
  {
   "cell_type": "code",
   "execution_count": 7,
   "metadata": {
    "collapsed": true,
    "deletable": true,
    "editable": true,
    "scrolled": true
   },
   "outputs": [],
   "source": [
    "# Library reference https://github.com/aleju/imgaug"
   ]
  },
  {
   "cell_type": "code",
   "execution_count": 19,
   "metadata": {
    "collapsed": true,
    "deletable": true,
    "editable": true,
    "scrolled": true
   },
   "outputs": [],
   "source": [
    "from imgaug.imgaug import augmenters as iaa\n",
    "import imgaug.imgaug as ia\n",
    "\n",
    "seq = iaa.Sequential([\n",
    "    iaa.Crop(px=(2,2,2,2)), # crop images from each side by 0 to 2 px (randomly chosen)\n",
    "    iaa.Add((-10, 10), per_channel=0.5),\n",
    "    iaa.Multiply((0.8, 1.2), per_channel=0.5),\n",
    "    iaa.Affine(\n",
    "            scale={\"x\": (0.9, 1.1), \"y\": (0.9, 1.1)}, # scale images to 80-120% of their size, individually per axis\n",
    "            translate_px={\"x\": (-2, 2), \"y\": (2, 2)}, # translate by -16 to +16 pixels (per axis)\n",
    "            rotate=(-15, 15), # rotate by -45 to +45 degrees\n",
    "            shear=(-10, 10), # shear by -16 to +16 degrees\n",
    "            order=ia.ALL, # use any of scikit-image's interpolation methods\n",
    "            mode=ia.ALL # use any of scikit-image's warping modes (see 2nd image from the top for examples)\n",
    "        ),\n",
    "])"
   ]
  },
  {
   "cell_type": "code",
   "execution_count": 21,
   "metadata": {
    "collapsed": false,
    "deletable": true,
    "editable": true,
    "scrolled": true
   },
   "outputs": [
    {
     "data": {
      "text/plain": [
       "2010"
      ]
     },
     "execution_count": 21,
     "metadata": {},
     "output_type": "execute_result"
    }
   ],
   "source": [
    "# Max number of image per class\n",
    "max(y)"
   ]
  },
  {
   "cell_type": "code",
   "execution_count": 22,
   "metadata": {
    "collapsed": true,
    "deletable": true,
    "editable": true,
    "scrolled": true
   },
   "outputs": [],
   "source": [
    "# Desired size of the image per class\n",
    "new_number_images_per_class = 5000"
   ]
  },
  {
   "cell_type": "code",
   "execution_count": 23,
   "metadata": {
    "collapsed": false,
    "deletable": true,
    "editable": true,
    "scrolled": true
   },
   "outputs": [
    {
     "data": {
      "text/plain": [
       "215000"
      ]
     },
     "execution_count": 23,
     "metadata": {},
     "output_type": "execute_result"
    }
   ],
   "source": [
    "# Expected size of new X matrix\n",
    "43 * new_number_images_per_class"
   ]
  },
  {
   "cell_type": "code",
   "execution_count": 24,
   "metadata": {
    "collapsed": true,
    "deletable": true,
    "editable": true,
    "scrolled": true
   },
   "outputs": [],
   "source": [
    "# Define new X and Y to store values\n",
    "new_X_train = None\n",
    "new_y_train = None"
   ]
  },
  {
   "cell_type": "code",
   "execution_count": 25,
   "metadata": {
    "collapsed": false,
    "deletable": true,
    "editable": true,
    "scrolled": true
   },
   "outputs": [
    {
     "name": "stdout",
     "output_type": "stream",
     "text": [
      "Processing index #41\n",
      "Processing index #31\n",
      "Processing index #36\n",
      "Processing index #26\n",
      "Processing index #23\n",
      "Processing index #1\n",
      "Processing index #40\n",
      "Processing index #22\n",
      "Processing index #37\n",
      "Processing index #16\n",
      "Processing index #3\n",
      "Processing index #19\n",
      "Processing index #4\n",
      "Processing index #11\n",
      "Processing index #42\n",
      "Processing index #0\n",
      "Processing index #32\n",
      "Processing index #27\n",
      "Processing index #29\n",
      "Processing index #24\n",
      "Processing index #9\n",
      "Processing index #5\n",
      "Processing index #38\n",
      "Processing index #8\n",
      "Processing index #10\n",
      "Processing index #35\n",
      "Processing index #34\n",
      "Processing index #18\n",
      "Processing index #6\n",
      "Processing index #13\n",
      "Processing index #7\n",
      "Processing index #30\n",
      "Processing index #39\n",
      "Processing index #21\n",
      "Processing index #20\n",
      "Processing index #33\n",
      "Processing index #28\n",
      "Processing index #12\n",
      "Processing index #14\n",
      "Processing index #15\n",
      "Processing index #17\n",
      "Processing index #2\n",
      "Processing index #25\n"
     ]
    }
   ],
   "source": [
    "# Generating new X and y\n",
    "if False:\n",
    "    for index in x: # in every image class\n",
    "        print('Processing index #{}'.format(index))\n",
    "        temp_X_real = X_train[y_train == index].copy()\n",
    "        new_X_matrix = X_train[y_train == index].copy()\n",
    "        while new_X_matrix.shape[0] < new_number_images_per_class:\n",
    "            new_X_matrix = np.concatenate((new_X_matrix,seq.augment_images(temp_X_real)))\n",
    "\n",
    "        if new_X_train is None: # for the first loop\n",
    "            new_X_train = new_X_matrix.copy()\n",
    "            new_y_train = np.empty(new_X_matrix.shape[0])\n",
    "            new_y_train.fill(index)\n",
    "        else:\n",
    "            new_X_train = np.concatenate((new_X_train,new_X_matrix))\n",
    "            new_y_vals = np.empty(new_X_matrix.shape[0])\n",
    "            new_y_vals.fill(index)\n",
    "            new_y_train = np.concatenate((new_y_train,new_y_vals))"
   ]
  },
  {
   "cell_type": "code",
   "execution_count": 27,
   "metadata": {
    "collapsed": false,
    "deletable": true,
    "editable": true,
    "scrolled": true
   },
   "outputs": [
    {
     "name": "stdout",
     "output_type": "stream",
     "text": [
      "(229281, 32, 32, 3)\n"
     ]
    }
   ],
   "source": [
    "# New size of the X matrix\n",
    "print(new_X_train.shape)"
   ]
  },
  {
   "cell_type": "code",
   "execution_count": 28,
   "metadata": {
    "collapsed": false,
    "deletable": true,
    "editable": true,
    "scrolled": true
   },
   "outputs": [
    {
     "name": "stdout",
     "output_type": "stream",
     "text": [
      "(229281,)\n"
     ]
    }
   ],
   "source": [
    "# New size of the y matrix\n",
    "print(new_y_train.shape)"
   ]
  },
  {
   "cell_type": "code",
   "execution_count": null,
   "metadata": {
    "collapsed": false,
    "deletable": true,
    "editable": true,
    "scrolled": true
   },
   "outputs": [],
   "source": [
    "# Save result to pickle\n",
    "np.save('X_train',new_X_train)\n",
    "np.save('y_train',new_y_train)"
   ]
  },
  {
   "cell_type": "code",
   "execution_count": 8,
   "metadata": {
    "collapsed": true,
    "deletable": true,
    "editable": true
   },
   "outputs": [],
   "source": [
    "new_X_train = np.load('X_train.npy')\n",
    "new_y_train = np.load('y_train.npy')"
   ]
  },
  {
   "cell_type": "code",
   "execution_count": 9,
   "metadata": {
    "collapsed": true,
    "deletable": true,
    "editable": true,
    "scrolled": true
   },
   "outputs": [],
   "source": [
    "X_train, y_train = new_X_train.copy(), new_y_train.copy()"
   ]
  },
  {
   "cell_type": "code",
   "execution_count": 10,
   "metadata": {
    "collapsed": true,
    "deletable": true,
    "editable": true
   },
   "outputs": [],
   "source": [
    "from collections import Counter\n",
    "cc = Counter(y_train)\n",
    "x,y = zip(*cc.items())"
   ]
  },
  {
   "cell_type": "code",
   "execution_count": 11,
   "metadata": {
    "collapsed": false,
    "deletable": true,
    "editable": true
   },
   "outputs": [
    {
     "data": {
      "text/plain": [
       "<Container object of 43 artists>"
      ]
     },
     "execution_count": 11,
     "metadata": {},
     "output_type": "execute_result"
    },
    {
     "data": {
      "image/png": "[encoded data removed]",
      "text/plain": [
       "<matplotlib.figure.Figure at 0x7fa0dc790dd8>"
      ]
     },
     "metadata": {},
     "output_type": "display_data"
    }
   ],
   "source": [
    "plt.bar(x,y,0.9)"
   ]
  },
  {
   "cell_type": "markdown",
   "metadata": {
    "deletable": true,
    "editable": true
   },
   "source": [
    "---\n",
    "\n",
    "## Step 1: Dataset Summary & Exploration\n",
    "\n",
    "The pickled data is a dictionary with 4 key/value pairs:\n",
    "\n",
    "- `'features'` is a 4D array containing raw pixel data of the traffic sign images, (num examples, width, height, channels).\n",
    "- `'labels'` is a 1D array containing the label/class id of the traffic sign. The file `signnames.csv` contains id -> name mappings for each id.\n",
    "- `'sizes'` is a list containing tuples, (width, height) representing the original width and height the image.\n",
    "- `'coords'` is a list containing tuples, (x1, y1, x2, y2) representing coordinates of a bounding box around the sign in the image. **THESE COORDINATES ASSUME THE ORIGINAL IMAGE. THE PICKLED DATA CONTAINS RESIZED VERSIONS (32 by 32) OF THESE IMAGES**\n",
    "\n",
    "Complete the basic data summary below. Use python, numpy and/or pandas methods to calculate the data summary rather than hard coding the results. For example, the [pandas shape method](http://pandas.pydata.org/pandas-docs/stable/generated/pandas.DataFrame.shape.html) might be useful for calculating some of the summary results. "
   ]
  },
  {
   "cell_type": "markdown",
   "metadata": {
    "deletable": true,
    "editable": true
   },
   "source": [
    "### Provide a Basic Summary of the Data Set Using Python, Numpy and/or Pandas"
   ]
  },
  {
   "cell_type": "code",
   "execution_count": 12,
   "metadata": {
    "collapsed": false,
    "deletable": true,
    "editable": true,
    "scrolled": true
   },
   "outputs": [
    {
     "name": "stdout",
     "output_type": "stream",
     "text": [
      "Number of training examples = 229281\n",
      "Number of testing examples = 12630\n",
      "Image data shape = (32, 32, 3)\n",
      "Number of classes = 43\n"
     ]
    }
   ],
   "source": [
    "import numpy as np\n",
    "\n",
    "# TODO: Number of training examples\n",
    "n_train = X_train.shape[0]\n",
    "\n",
    "# TODO: Number of testing examples.\n",
    "n_test = X_test.shape[0]\n",
    "\n",
    "# TODO: What's the shape of an traffic sign image?\n",
    "image_shape = X_train[0].shape\n",
    "\n",
    "# TODO: How many unique classes/labels there are in the dataset.\n",
    "n_classes = np.unique(y_train).shape[0]\n",
    "\n",
    "print(\"Number of training examples =\", n_train)\n",
    "print(\"Number of testing examples =\", n_test)\n",
    "print(\"Image data shape =\", image_shape)\n",
    "print(\"Number of classes =\", n_classes)"
   ]
  },
  {
   "cell_type": "markdown",
   "metadata": {
    "deletable": true,
    "editable": true
   },
   "source": [
    "### Include an exploratory visualization of the dataset"
   ]
  },
  {
   "cell_type": "markdown",
   "metadata": {
    "deletable": true,
    "editable": true
   },
   "source": [
    "Visualize the German Traffic Signs Dataset using the pickled file(s). This is open ended, suggestions include: plotting traffic sign images, plotting the count of each sign, etc.\n",
    "\n",
    "The [Matplotlib](http://matplotlib.org/) [examples](http://matplotlib.org/examples/index.html) and [gallery](http://matplotlib.org/gallery.html) pages are a great resource for doing visualizations in Python.\n",
    "\n",
    "**NOTE:** It's recommended you start with something simple first. If you wish to do more, come back to it after you've completed the rest of the sections."
   ]
  },
  {
   "cell_type": "code",
   "execution_count": 13,
   "metadata": {
    "collapsed": false,
    "deletable": true,
    "editable": true,
    "scrolled": true
   },
   "outputs": [
    {
     "name": "stdout",
     "output_type": "stream",
     "text": [
      "ClassId      int64\n",
      "SignName    object\n",
      "dtype: object\n"
     ]
    },
    {
     "data": {
      "text/html": [
       "<div>\n",
       "<table border=\"1\" class=\"dataframe\">\n",
       "  <thead>\n",
       "    <tr style=\"text-align: right;\">\n",
       "      <th></th>\n",
       "      <th>ClassId</th>\n",
       "      <th>SignName</th>\n",
       "    </tr>\n",
       "  </thead>\n",
       "  <tbody>\n",
       "    <tr>\n",
       "      <th>0</th>\n",
       "      <td>0</td>\n",
       "      <td>Speed limit (20km/h)</td>\n",
       "    </tr>\n",
       "    <tr>\n",
       "      <th>1</th>\n",
       "      <td>1</td>\n",
       "      <td>Speed limit (30km/h)</td>\n",
       "    </tr>\n",
       "    <tr>\n",
       "      <th>2</th>\n",
       "      <td>2</td>\n",
       "      <td>Speed limit (50km/h)</td>\n",
       "    </tr>\n",
       "    <tr>\n",
       "      <th>3</th>\n",
       "      <td>3</td>\n",
       "      <td>Speed limit (60km/h)</td>\n",
       "    </tr>\n",
       "    <tr>\n",
       "      <th>4</th>\n",
       "      <td>4</td>\n",
       "      <td>Speed limit (70km/h)</td>\n",
       "    </tr>\n",
       "  </tbody>\n",
       "</table>\n",
       "</div>"
      ],
      "text/plain": [
       "   ClassId              SignName\n",
       "0        0  Speed limit (20km/h)\n",
       "1        1  Speed limit (30km/h)\n",
       "2        2  Speed limit (50km/h)\n",
       "3        3  Speed limit (60km/h)\n",
       "4        4  Speed limit (70km/h)"
      ]
     },
     "execution_count": 13,
     "metadata": {},
     "output_type": "execute_result"
    }
   ],
   "source": [
    "sign_names = pd.read_csv('signnames.csv')\n",
    "print(sign_names.dtypes)\n",
    "sign_names.head()"
   ]
  },
  {
   "cell_type": "code",
   "execution_count": 14,
   "metadata": {
    "collapsed": false,
    "deletable": true,
    "editable": true,
    "scrolled": true
   },
   "outputs": [
    {
     "data": {
      "image/png": "[encoded data removed]",
      "text/plain": [
       "<matplotlib.figure.Figure at 0x7fa07796b6d8>"
      ]
     },
     "metadata": {},
     "output_type": "display_data"
    }
   ],
   "source": [
    "for fig_i,i in enumerate(list(np.random.randint(n_train,size=18))):\n",
    "    plt.subplot(3,6,int(fig_i)+1)\n",
    "    plt.imshow(X_train[i])\n",
    "    plt.title(sign_names.loc[y_train[i],'SignName'])\n",
    "    \n",
    "plt.subplots_adjust(top=0.92, bottom=0.08, left=0.10, right=0.95, hspace=0.8, wspace=0.15)\n",
    "plt.show()"
   ]
  },
  {
   "cell_type": "markdown",
   "metadata": {
    "deletable": true,
    "editable": true
   },
   "source": [
    "----\n",
    "\n",
    "## Step 2: Design and Test a Model Architecture\n",
    "\n",
    "Design and implement a deep learning model that learns to recognize traffic signs. Train and test your model on the [German Traffic Sign Dataset](http://benchmark.ini.rub.de/?section=gtsrb&subsection=dataset).\n",
    "\n",
    "The LeNet-5 implementation shown in the [classroom](https://classroom.udacity.com/nanodegrees/nd013/parts/fbf77062-5703-404e-b60c-95b78b2f3f9e/modules/6df7ae49-c61c-4bb2-a23e-6527e69209ec/lessons/601ae704-1035-4287-8b11-e2c2716217ad/concepts/d4aca031-508f-4e0b-b493-e7b706120f81) at the end of the CNN lesson is a solid starting point. You'll have to change the number of classes and possibly the preprocessing, but aside from that it's plug and play! \n",
    "\n",
    "With the LeNet-5 solution from the lecture, you should expect a validation set accuracy of about 0.89. To meet specifications, the validation set accuracy will need to be at least 0.93. It is possible to get an even higher accuracy, but 0.93 is the minimum for a successful project submission. \n",
    "\n",
    "There are various aspects to consider when thinking about this problem:\n",
    "\n",
    "- Neural network architecture (is the network over or underfitting?)\n",
    "- Play around preprocessing techniques (normalization, rgb to grayscale, etc)\n",
    "- Number of examples per label (some have more than others).\n",
    "- Generate fake data.\n",
    "\n",
    "Here is an example of a [published baseline model on this problem](http://yann.lecun.com/exdb/publis/pdf/sermanet-ijcnn-11.pdf). It's not required to be familiar with the approach used in the paper but, it's good practice to try to read papers like these."
   ]
  },
  {
   "cell_type": "markdown",
   "metadata": {
    "deletable": true,
    "editable": true
   },
   "source": [
    "### Pre-process the Data Set (normalization, grayscale, etc.)"
   ]
  },
  {
   "cell_type": "markdown",
   "metadata": {
    "deletable": true,
    "editable": true
   },
   "source": [
    "Use the code cell (or multiple code cells, if necessary) to implement the first step of your project."
   ]
  },
  {
   "cell_type": "code",
   "execution_count": 15,
   "metadata": {
    "collapsed": false,
    "deletable": true,
    "editable": true,
    "scrolled": true
   },
   "outputs": [],
   "source": [
    "# print(X_train.max()) # 255\n",
    "# print(X_train.min()) # 0\n",
    "# print(X_train.mean()) # 82\n",
    "def normalize(X):\n",
    "    \"\"\"Normalize RGB variables such that they are in range of 0 to 1\"\"\"\n",
    "    X = X.astype(np.float)\n",
    "    return (X-128)/128"
   ]
  },
  {
   "cell_type": "code",
   "execution_count": 16,
   "metadata": {
    "collapsed": false,
    "deletable": true,
    "editable": true,
    "scrolled": true
   },
   "outputs": [
    {
     "name": "stdout",
     "output_type": "stream",
     "text": [
      "0.9921875\n",
      "-1.0\n",
      "-0.360404719263\n"
     ]
    }
   ],
   "source": [
    "X_train_normed = normalize(X_train)\n",
    "X_valid_normed = normalize(X_valid)\n",
    "X_test_normed = normalize(X_test)\n",
    "print(X_train_normed.max())\n",
    "print(X_train_normed.min())\n",
    "print(X_train_normed.mean())"
   ]
  },
  {
   "cell_type": "markdown",
   "metadata": {
    "deletable": true,
    "editable": true
   },
   "source": [
    "# Trying Grayscale"
   ]
  },
  {
   "cell_type": "code",
   "execution_count": 17,
   "metadata": {
    "collapsed": true,
    "deletable": true,
    "editable": true
   },
   "outputs": [],
   "source": [
    "# X_train_rgb = X_train.copy()\n",
    "# X_valid_rgb = X_valid.copy()\n",
    "# X_test_rgb = X_test.copy()"
   ]
  },
  {
   "cell_type": "code",
   "execution_count": 18,
   "metadata": {
    "collapsed": true,
    "deletable": true,
    "editable": true
   },
   "outputs": [],
   "source": [
    "# # X_train = np.sum(X_train,axis=3, keepdims=True)/3\n",
    "# # X_valid = np.sum(X_valid,axis=3, keepdims=True)/3\n",
    "# # X_test = np.sum(X_test,axis=3, keepdims=True)/3\n",
    "# X_train = X_train_rgb.copy()\n",
    "# X_valid = X_valid_rgb.copy()\n",
    "# X_test = X_test_rgb.copy()"
   ]
  },
  {
   "cell_type": "code",
   "execution_count": 19,
   "metadata": {
    "collapsed": false,
    "deletable": true,
    "editable": true
   },
   "outputs": [
    {
     "data": {
      "text/plain": [
       "(229281, 32, 32, 3)"
      ]
     },
     "execution_count": 19,
     "metadata": {},
     "output_type": "execute_result"
    }
   ],
   "source": [
    "X_train.shape"
   ]
  },
  {
   "cell_type": "code",
   "execution_count": 20,
   "metadata": {
    "collapsed": false,
    "deletable": true,
    "editable": true
   },
   "outputs": [
    {
     "data": {
      "text/plain": [
       "(4410, 32, 32, 3)"
      ]
     },
     "execution_count": 20,
     "metadata": {},
     "output_type": "execute_result"
    }
   ],
   "source": [
    "X_valid.shape"
   ]
  },
  {
   "cell_type": "markdown",
   "metadata": {
    "deletable": true,
    "editable": true
   },
   "source": [
    "## Model Architecture"
   ]
  },
  {
   "cell_type": "code",
   "execution_count": 54,
   "metadata": {
    "collapsed": false,
    "deletable": true,
    "editable": true,
    "scrolled": true
   },
   "outputs": [],
   "source": [
    "from sklearn.utils import shuffle\n",
    "\n",
    "X_train, y_train = shuffle(X_train, y_train)"
   ]
  },
  {
   "cell_type": "code",
   "execution_count": 72,
   "metadata": {
    "collapsed": true,
    "deletable": true,
    "editable": true,
    "scrolled": true
   },
   "outputs": [],
   "source": [
    "import tensorflow as tf\n",
    "from tensorflow.contrib.layers import flatten"
   ]
  },
  {
   "cell_type": "code",
   "execution_count": 73,
   "metadata": {
    "collapsed": true,
    "deletable": true,
    "editable": true,
    "scrolled": true
   },
   "outputs": [],
   "source": [
    "def conv2d_maxpool(input_data, \n",
    "                   output_size, \n",
    "                   conv_padding, \n",
    "                   pool_padding, \n",
    "                   mu = 0, \n",
    "                   sigma = 0.1, \n",
    "                   conv_size = [5,5], \n",
    "                   conv_stride = [1,1], \n",
    "                   pool_size=[2,2], \n",
    "                   pool_strides=[2,2]):\n",
    "    \n",
    "    # Get the size of input tensor\n",
    "    input_shape = input_data.get_shape().as_list()\n",
    "    # Define weights and biases\n",
    "    weights = tf.Variable(tf.truncated_normal(shape=[conv_size[0],\n",
    "                                                  conv_size[1],\n",
    "                                                  input_shape[3],\n",
    "                                                  output_size],\n",
    "                                           mean = mu,\n",
    "                                           stddev = sigma))\n",
    "    \n",
    "    bias = tf.Variable(tf.zeros(output_size))\n",
    "    # Apply 2D conv layer\n",
    "    layer = tf.nn.conv2d(input_data, \n",
    "                      weights,\n",
    "                      [1,conv_stride[0],conv_stride[1],1],\n",
    "                      conv_padding)\n",
    "    # Add bias\n",
    "    layer = tf.nn.bias_add(layer,bias)\n",
    "    \n",
    "    # TODO\n",
    "#     layer = tf.contrib.layers.batch_norm(layer)\n",
    "    \n",
    "    # RELU Activation\n",
    "    layer = tf.nn.relu(layer)\n",
    "    \n",
    "    # MAX pooling layer\n",
    "    layer = tf.nn.max_pool(layer,\n",
    "                           [1,pool_size[0],pool_size[1],1],\n",
    "                           [1,pool_strides[0],pool_strides[0],1],\n",
    "                           pool_padding)\n",
    "    return layer"
   ]
  },
  {
   "cell_type": "code",
   "execution_count": 74,
   "metadata": {
    "collapsed": true,
    "deletable": true,
    "editable": true,
    "scrolled": true
   },
   "outputs": [],
   "source": [
    "def fully_connected(input_data,\n",
    "                   output_size,\n",
    "                   mu = 0,\n",
    "                   sigma = 0.1):\n",
    "    input_data_shape = input_data.get_shape().as_list()\n",
    "    weights = tf.Variable(tf.truncated_normal(shape=[input_data_shape[1],\n",
    "                                                     output_size],\n",
    "                                              mean = mu,\n",
    "                                              stddev = sigma))\n",
    "    bias = tf.Variable(tf.zeros(output_size))\n",
    "    layer = tf.matmul(input_data,weights)\n",
    "    layer = tf.nn.bias_add(layer,bias)\n",
    "    # RELU Activation\n",
    "    layer = tf.nn.relu(layer)\n",
    "    return layer"
   ]
  },
  {
   "cell_type": "code",
   "execution_count": 75,
   "metadata": {
    "collapsed": true,
    "deletable": true,
    "editable": true,
    "scrolled": true
   },
   "outputs": [],
   "source": [
    "def output_layer(input_data,\n",
    "                 output_size,\n",
    "                 mu = 0,\n",
    "                 sigma = 0.1):\n",
    "    input_data_shape = input_data.get_shape().as_list()\n",
    "    weights = tf.Variable(tf.truncated_normal(shape=[input_data_shape[1],\n",
    "                                                     output_size],\n",
    "                                              mean = mu,\n",
    "                                              stddev = sigma))\n",
    "    bias = tf.Variable(tf.zeros(output_size))\n",
    "    layer = tf.matmul(input_data,weights)\n",
    "    layer = tf.nn.bias_add(layer,bias)\n",
    "    return layer"
   ]
  },
  {
   "cell_type": "code",
   "execution_count": 76,
   "metadata": {
    "collapsed": false,
    "deletable": true,
    "editable": true,
    "scrolled": true
   },
   "outputs": [],
   "source": [
    "def NN(x, keep_prob):    \n",
    "    # Arguments used for tf.truncated_normal, randomly defines variables for the weights and biases for each layer\n",
    "    \n",
    "    # Layer 1: Convolutional + RELU + MAX_pool. \n",
    "    C1 = conv2d_maxpool(x,\n",
    "                        output_size = 8,\n",
    "                        conv_padding = 'VALID' ,\n",
    "                        pool_padding = 'VALID',\n",
    "                        mu = 0,\n",
    "                        sigma = 0.1,\n",
    "                        conv_size = [1,1],\n",
    "                        conv_stride = [1,1],\n",
    "                        pool_size=[2,2],\n",
    "                        pool_strides=[1,1])\n",
    "    \n",
    "#     C1 = tf.nn.l2_normalize(C1, dim = 2)\n",
    "    \n",
    "    # Layer 2: Convolutional + RELU + MAX_pool. \n",
    "    C2 = conv2d_maxpool(C1,\n",
    "                        output_size = 16,\n",
    "                        conv_padding = 'VALID' ,\n",
    "                        pool_padding = 'VALID',\n",
    "                        mu = 0,\n",
    "                        sigma = 0.1,\n",
    "                        conv_size = [1,1],\n",
    "                        conv_stride = [1,1],\n",
    "                        pool_size=[2,2],\n",
    "                        pool_strides=[1,1])\n",
    "\n",
    "    # Layer 3: Convolutional + RELU + MAX_pool. \n",
    "    C3 = conv2d_maxpool(C2,\n",
    "                        output_size = 32,\n",
    "                        conv_padding = 'VALID' ,\n",
    "                        pool_padding = 'VALID',\n",
    "                        mu = 0,\n",
    "                        sigma = 0.1,\n",
    "                        conv_size = [3,3],\n",
    "                        conv_stride = [1,1],\n",
    "                        pool_size=[2,2],\n",
    "                        pool_strides=[1,1])\n",
    "    \n",
    "    # Layer 4: Convolutional + RELU + MAX_pool. \n",
    "    C4 = conv2d_maxpool(C3,\n",
    "                        output_size = 64,\n",
    "                        conv_padding = 'VALID' ,\n",
    "                        pool_padding = 'VALID',\n",
    "                        mu = 0,\n",
    "                        sigma = 0.1,\n",
    "                        conv_size = [5,5],\n",
    "                        conv_stride = [1,1],\n",
    "                        pool_size=[2,2],\n",
    "                        pool_strides=[1,1])\n",
    "    \n",
    "    # Layer 5: Convolutional + RELU + MAX_pool. \n",
    "    C5 = conv2d_maxpool(C4,\n",
    "                        output_size = 128,\n",
    "                        conv_padding = 'VALID' ,\n",
    "                        pool_padding = 'VALID',\n",
    "                        mu = 0,\n",
    "                        sigma = 0.1,\n",
    "                        conv_size = [7,7],\n",
    "                        conv_stride = [1,1],\n",
    "                        pool_size=[2,2],\n",
    "                        pool_strides=[1,1])\n",
    "    \n",
    "    # Layer 6: Convolutional + RELU + MAX_pool. \n",
    "    C6 = conv2d_maxpool(C5,\n",
    "                        output_size = 256,\n",
    "                        conv_padding = 'VALID' ,\n",
    "                        pool_padding = 'VALID',\n",
    "                        mu = 0,\n",
    "                        sigma = 0.1,\n",
    "                        conv_size = [7,7],\n",
    "                        conv_stride = [1,1],\n",
    "                        pool_size=[2,2],\n",
    "                        pool_strides=[1,1])\n",
    "    \n",
    "    C6 = tf.nn.dropout(C6,keep_prob=keep_prob)\n",
    "    \n",
    "    flatten_layer = flatten(C6)\n",
    "    \n",
    "    FC1 = fully_connected(flatten_layer,\n",
    "                          1024,\n",
    "                          mu = 0,\n",
    "                          sigma = 0.1)\n",
    "    \n",
    "    FC1 = tf.nn.dropout(FC1,keep_prob=keep_prob)\n",
    "    \n",
    "    FC2 = fully_connected(FC1,\n",
    "                          512,\n",
    "                          mu = 0,\n",
    "                          sigma = 0.1)\n",
    "    \n",
    "    FC2 = tf.nn.dropout(FC2,keep_prob=keep_prob)\n",
    "    \n",
    "    FC3 = fully_connected(FC2,\n",
    "                          256,\n",
    "                          mu = 0,\n",
    "                          sigma = 0.1)\n",
    "    \n",
    "    output = output_layer(FC3,\n",
    "                          43,\n",
    "                          mu = 0,\n",
    "                          sigma = 0.1)\n",
    "\n",
    "    return output"
   ]
  },
  {
   "cell_type": "code",
   "execution_count": 77,
   "metadata": {
    "collapsed": true,
    "deletable": true,
    "editable": true,
    "scrolled": true
   },
   "outputs": [],
   "source": [
    "tf.reset_default_graph() # OTHERWISE MESS UP ALL NETWORK IF RERUN\n",
    "x = tf.placeholder(tf.float32, (None, 32, 32, X_train.shape[3]), name = 'x')\n",
    "y = tf.placeholder(tf.int32, (None), name = 'y')\n",
    "keep_prob = tf.placeholder(tf.float32, name='keep_prob')\n",
    "one_hot_y = tf.one_hot(y, 43)"
   ]
  },
  {
   "cell_type": "code",
   "execution_count": 78,
   "metadata": {
    "collapsed": false,
    "deletable": true,
    "editable": true,
    "scrolled": true
   },
   "outputs": [],
   "source": [
    "rate = 0.001\n",
    "keep_probability = 0.7\n",
    "\n",
    "logits = NN(x,keep_probability)\n",
    "cross_entropy = tf.nn.softmax_cross_entropy_with_logits(logits=logits, labels=one_hot_y)\n",
    "loss_operation = tf.reduce_mean(cross_entropy)\n",
    "optimizer = tf.train.AdamOptimizer(learning_rate = rate)\n",
    "training_operation = optimizer.minimize(loss_operation)"
   ]
  },
  {
   "cell_type": "code",
   "execution_count": 79,
   "metadata": {
    "collapsed": false,
    "deletable": true,
    "editable": true,
    "scrolled": true
   },
   "outputs": [],
   "source": [
    "correct_prediction = tf.equal(tf.argmax(logits, 1), tf.argmax(one_hot_y, 1))\n",
    "accuracy_operation = tf.reduce_mean(tf.cast(correct_prediction, tf.float32))\n",
    "saver = tf.train.Saver()\n",
    "\n",
    "def evaluate(X_data, y_data):\n",
    "    num_examples = len(X_data)\n",
    "    total_accuracy = 0\n",
    "    sess = tf.get_default_session()\n",
    "    for offset in range(0, num_examples, BATCH_SIZE):\n",
    "        batch_x, batch_y = X_data[offset:offset+BATCH_SIZE], y_data[offset:offset+BATCH_SIZE]\n",
    "        accuracy = sess.run(accuracy_operation, feed_dict={x: batch_x, y: batch_y})\n",
    "        total_accuracy += (accuracy * len(batch_x))\n",
    "    return total_accuracy / num_examples"
   ]
  },
  {
   "cell_type": "markdown",
   "metadata": {
    "deletable": true,
    "editable": true
   },
   "source": [
    "### Train, Validate and Test the Model"
   ]
  },
  {
   "cell_type": "markdown",
   "metadata": {
    "deletable": true,
    "editable": true
   },
   "source": [
    "A validation set can be used to assess how well the model is performing. A low accuracy on the training and validation\n",
    "sets imply underfitting. A high accuracy on the training set but low accuracy on the validation set implies overfitting."
   ]
  },
  {
   "cell_type": "code",
   "execution_count": 80,
   "metadata": {
    "collapsed": true,
    "deletable": true,
    "editable": true,
    "scrolled": true
   },
   "outputs": [],
   "source": [
    "EPOCHS = 50\n",
    "BATCH_SIZE = 256"
   ]
  },
  {
   "cell_type": "code",
   "execution_count": 81,
   "metadata": {
    "collapsed": false,
    "deletable": true,
    "editable": true,
    "scrolled": false
   },
   "outputs": [
    {
     "name": "stdout",
     "output_type": "stream",
     "text": [
      "Training...\n",
      "EPOCH 1 - Validation Accuracy = 0.289\n",
      "EPOCH 2 - Validation Accuracy = 0.502\n",
      "EPOCH 3 - Validation Accuracy = 0.731\n",
      "EPOCH 4 - Validation Accuracy = 0.872\n",
      "EPOCH 5 - Validation Accuracy = 0.884\n",
      "EPOCH 6 - Validation Accuracy = 0.924\n",
      "EPOCH 7 - Validation Accuracy = 0.927\n",
      "EPOCH 8 - Validation Accuracy = 0.919\n",
      "EPOCH 9 - Validation Accuracy = 0.931\n",
      "EPOCH 10 - Validation Accuracy = 0.951\n",
      "EPOCH 11 - Validation Accuracy = 0.946\n",
      "EPOCH 12 - Validation Accuracy = 0.954\n",
      "EPOCH 13 - Validation Accuracy = 0.942\n",
      "EPOCH 14 - Validation Accuracy = 0.959\n",
      "EPOCH 15 - Validation Accuracy = 0.941\n",
      "EPOCH 16 - Validation Accuracy = 0.949\n",
      "EPOCH 17 - Validation Accuracy = 0.950\n",
      "EPOCH 18 - Validation Accuracy = 0.951\n",
      "EPOCH 19 - Validation Accuracy = 0.962\n",
      "EPOCH 20 - Validation Accuracy = 0.976\n",
      "EPOCH 21 - Validation Accuracy = 0.972\n",
      "EPOCH 22 - Validation Accuracy = 0.976\n",
      "EPOCH 23 - Validation Accuracy = 0.980\n",
      "EPOCH 24 - Validation Accuracy = 0.977\n",
      "EPOCH 25 - Validation Accuracy = 0.972\n",
      "EPOCH 26 - Validation Accuracy = 0.982\n",
      "EPOCH 27 - Validation Accuracy = 0.983\n",
      "EPOCH 28 - Validation Accuracy = 0.972\n",
      "EPOCH 29 - Validation Accuracy = 0.985\n",
      "EPOCH 30 - Validation Accuracy = 0.983\n",
      "EPOCH 31 - Validation Accuracy = 0.979\n",
      "EPOCH 32 - Validation Accuracy = 0.974\n",
      "EPOCH 33 - Validation Accuracy = 0.968\n",
      "EPOCH 34 - Validation Accuracy = 0.977\n",
      "EPOCH 35 - Validation Accuracy = 0.977\n",
      "EPOCH 36 - Validation Accuracy = 0.978\n",
      "EPOCH 37 - Validation Accuracy = 0.980\n",
      "EPOCH 38 - Validation Accuracy = 0.978\n",
      "EPOCH 39 - Validation Accuracy = 0.973\n",
      "EPOCH 40 - Validation Accuracy = 0.969\n",
      "EPOCH 41 - Validation Accuracy = 0.982\n",
      "EPOCH 42 - Validation Accuracy = 0.980\n",
      "EPOCH 43 - Validation Accuracy = 0.951\n",
      "EPOCH 44 - Validation Accuracy = 0.982\n",
      "EPOCH 45 - Validation Accuracy = 0.983\n",
      "EPOCH 46 - Validation Accuracy = 0.983\n",
      "EPOCH 47 - Validation Accuracy = 0.986\n",
      "EPOCH 48 - Validation Accuracy = 0.986\n",
      "EPOCH 49 - Validation Accuracy = 0.974\n",
      "EPOCH 50 - Validation Accuracy = 0.984\n",
      "Model saved\n"
     ]
    }
   ],
   "source": [
    "with tf.Session() as sess:\n",
    "    sess.run(tf.global_variables_initializer())\n",
    "    num_examples = len(X_train)\n",
    "    \n",
    "    print(\"Training...\")\n",
    "    for i in range(EPOCHS):\n",
    "        X_train, y_train = shuffle(X_train, y_train)\n",
    "        for offset in range(0, num_examples, BATCH_SIZE):\n",
    "            end = offset + BATCH_SIZE\n",
    "            batch_x, batch_y = X_train[offset:end], y_train[offset:end]\n",
    "            sess.run(training_operation, feed_dict={x: batch_x, y: batch_y})\n",
    "            \n",
    "        validation_accuracy = evaluate(X_valid, y_valid)\n",
    "        print(\"EPOCH {} - Validation Accuracy = {:.3f}\".format(i+1,validation_accuracy))\n",
    "        \n",
    "    saver.save(sess, './traffic_model')\n",
    "    print(\"Model saved\")"
   ]
  },
  {
   "cell_type": "code",
   "execution_count": 84,
   "metadata": {
    "collapsed": false,
    "deletable": true,
    "editable": true,
    "scrolled": true
   },
   "outputs": [
    {
     "name": "stdout",
     "output_type": "stream",
     "text": [
      "Train Accuracy = 0.998\n",
      "Validation Accuracy = 0.983\n",
      "Test Accuracy = 0.942\n"
     ]
    }
   ],
   "source": [
    "with tf.Session() as sess:\n",
    "    saver.restore(sess, tf.train.latest_checkpoint('.'))\n",
    "    \n",
    "    train_accuracy = evaluate(X_train, y_train)\n",
    "    valid_accuracy = evaluate(X_valid, y_valid)\n",
    "    test_accuracy = evaluate(X_test, y_test)\n",
    "    print(\"Train Accuracy = {:.3f}\".format(train_accuracy))\n",
    "    print(\"Validation Accuracy = {:.3f}\".format(valid_accuracy))\n",
    "    print(\"Test Accuracy = {:.3f}\".format(test_accuracy))"
   ]
  },
  {
   "cell_type": "markdown",
   "metadata": {
    "deletable": true,
    "editable": true
   },
   "source": [
    "---\n",
    "\n",
    "## Step 3: Test a Model on New Images\n",
    "\n",
    "To give yourself more insight into how your model is working, download at least five pictures of German traffic signs from the web and use your model to predict the traffic sign type.\n",
    "\n",
    "You may find `signnames.csv` useful as it contains mappings from the class id (integer) to the actual sign name."
   ]
  },
  {
   "cell_type": "markdown",
   "metadata": {
    "deletable": true,
    "editable": true
   },
   "source": [
    "### Load and Output the Images"
   ]
  },
  {
   "cell_type": "code",
   "execution_count": null,
   "metadata": {
    "collapsed": true,
    "deletable": true,
    "editable": true,
    "scrolled": true
   },
   "outputs": [],
   "source": [
    "### Load the images and plot them here.\n",
    "### Feel free to use as many code cells as needed."
   ]
  },
  {
   "cell_type": "markdown",
   "metadata": {
    "deletable": true,
    "editable": true
   },
   "source": [
    "### Predict the Sign Type for Each Image"
   ]
  },
  {
   "cell_type": "code",
   "execution_count": null,
   "metadata": {
    "collapsed": true,
    "deletable": true,
    "editable": true,
    "scrolled": true
   },
   "outputs": [],
   "source": [
    "### Run the predictions here and use the model to output the prediction for each image.\n",
    "### Make sure to pre-process the images with the same pre-processing pipeline used earlier.\n",
    "### Feel free to use as many code cells as needed."
   ]
  },
  {
   "cell_type": "markdown",
   "metadata": {
    "deletable": true,
    "editable": true
   },
   "source": [
    "### Analyze Performance"
   ]
  },
  {
   "cell_type": "code",
   "execution_count": null,
   "metadata": {
    "collapsed": true,
    "deletable": true,
    "editable": true,
    "scrolled": true
   },
   "outputs": [],
   "source": [
    "### Calculate the accuracy for these 5 new images. \n",
    "### For example, if the model predicted 1 out of 5 signs correctly, it's 20% accurate on these new images."
   ]
  },
  {
   "cell_type": "markdown",
   "metadata": {
    "deletable": true,
    "editable": true
   },
   "source": [
    "### Output Top 5 Softmax Probabilities For Each Image Found on the Web"
   ]
  },
  {
   "cell_type": "markdown",
   "metadata": {
    "deletable": true,
    "editable": true
   },
   "source": [
    "For each of the new images, print out the model's softmax probabilities to show the **certainty** of the model's predictions (limit the output to the top 5 probabilities for each image). [`tf.nn.top_k`](https://www.tensorflow.org/versions/r0.12/api_docs/python/nn.html#top_k) could prove helpful here. \n",
    "\n",
    "The example below demonstrates how tf.nn.top_k can be used to find the top k predictions for each image.\n",
    "\n",
    "`tf.nn.top_k` will return the values and indices (class ids) of the top k predictions. So if k=3, for each sign, it'll return the 3 largest probabilities (out of a possible 43) and the correspoding class ids.\n",
    "\n",
    "Take this numpy array as an example. The values in the array represent predictions. The array contains softmax probabilities for five candidate images with six possible classes. `tk.nn.top_k` is used to choose the three classes with the highest probability:\n",
    "\n",
    "```\n",
    "# (5, 6) array\n",
    "a = np.array([[ 0.24879643,  0.07032244,  0.12641572,  0.34763842,  0.07893497,\n",
    "         0.12789202],\n",
    "       [ 0.28086119,  0.27569815,  0.08594638,  0.0178669 ,  0.18063401,\n",
    "         0.15899337],\n",
    "       [ 0.26076848,  0.23664738,  0.08020603,  0.07001922,  0.1134371 ,\n",
    "         0.23892179],\n",
    "       [ 0.11943333,  0.29198961,  0.02605103,  0.26234032,  0.1351348 ,\n",
    "         0.16505091],\n",
    "       [ 0.09561176,  0.34396535,  0.0643941 ,  0.16240774,  0.24206137,\n",
    "         0.09155967]])\n",
    "```\n",
    "\n",
    "Running it through `sess.run(tf.nn.top_k(tf.constant(a), k=3))` produces:\n",
    "\n",
    "```\n",
    "TopKV2(values=array([[ 0.34763842,  0.24879643,  0.12789202],\n",
    "       [ 0.28086119,  0.27569815,  0.18063401],\n",
    "       [ 0.26076848,  0.23892179,  0.23664738],\n",
    "       [ 0.29198961,  0.26234032,  0.16505091],\n",
    "       [ 0.34396535,  0.24206137,  0.16240774]]), indices=array([[3, 0, 5],\n",
    "       [0, 1, 4],\n",
    "       [0, 5, 1],\n",
    "       [1, 3, 5],\n",
    "       [1, 4, 3]], dtype=int32))\n",
    "```\n",
    "\n",
    "Looking just at the first row we get `[ 0.34763842,  0.24879643,  0.12789202]`, you can confirm these are the 3 largest probabilities in `a`. You'll also notice `[3, 0, 5]` are the corresponding indices."
   ]
  },
  {
   "cell_type": "code",
   "execution_count": null,
   "metadata": {
    "collapsed": true,
    "deletable": true,
    "editable": true,
    "scrolled": true
   },
   "outputs": [],
   "source": [
    "### Print out the top five softmax probabilities for the predictions on the German traffic sign images found on the web. \n",
    "### Feel free to use as many code cells as needed."
   ]
  },
  {
   "cell_type": "markdown",
   "metadata": {
    "deletable": true,
    "editable": true
   },
   "source": [
    "---\n",
    "\n",
    "## Step 4: Visualize the Neural Network's State with Test Images\n",
    "\n",
    " This Section is not required to complete but acts as an additional excersise for understaning the output of a neural network's weights. While neural networks can be a great learning device they are often referred to as a black box. We can understand what the weights of a neural network look like better by plotting their feature maps. After successfully training your neural network you can see what it's feature maps look like by plotting the output of the network's weight layers in response to a test stimuli image. From these plotted feature maps, it's possible to see what characteristics of an image the network finds interesting. For a sign, maybe the inner network feature maps react with high activation to the sign's boundary outline or to the contrast in the sign's painted symbol.\n",
    "\n",
    " Provided for you below is the function code that allows you to get the visualization output of any tensorflow weight layer you want. The inputs to the function should be a stimuli image, one used during training or a new one you provided, and then the tensorflow variable name that represents the layer's state during the training process, for instance if you wanted to see what the [LeNet lab's](https://classroom.udacity.com/nanodegrees/nd013/parts/fbf77062-5703-404e-b60c-95b78b2f3f9e/modules/6df7ae49-c61c-4bb2-a23e-6527e69209ec/lessons/601ae704-1035-4287-8b11-e2c2716217ad/concepts/d4aca031-508f-4e0b-b493-e7b706120f81) feature maps looked like for it's second convolutional layer you could enter conv2 as the tf_activation variable.\n",
    "\n",
    "For an example of what feature map outputs look like, check out NVIDIA's results in their paper [End-to-End Deep Learning for Self-Driving Cars](https://devblogs.nvidia.com/parallelforall/deep-learning-self-driving-cars/) in the section Visualization of internal CNN State. NVIDIA was able to show that their network's inner weights had high activations to road boundary lines by comparing feature maps from an image with a clear path to one without. Try experimenting with a similar test to show that your trained network's weights are looking for interesting features, whether it's looking at differences in feature maps from images with or without a sign, or even what feature maps look like in a trained network vs a completely untrained one on the same sign image.\n",
    "\n",
    "<figure>\n",
    " <img src=\"visualize_cnn.png\" width=\"380\" alt=\"Combined Image\" />\n",
    " <figcaption>\n",
    " <p></p> \n",
    " <p style=\"text-align: center;\"> Your output should look something like this (above)</p> \n",
    " </figcaption>\n",
    "</figure>\n",
    " <p></p> \n"
   ]
  },
  {
   "cell_type": "code",
   "execution_count": null,
   "metadata": {
    "collapsed": true,
    "deletable": true,
    "editable": true,
    "scrolled": true
   },
   "outputs": [],
   "source": [
    "### Visualize your network's feature maps here.\n",
    "### Feel free to use as many code cells as needed.\n",
    "\n",
    "# image_input: the test image being fed into the network to produce the feature maps\n",
    "# tf_activation: should be a tf variable name used during your training procedure that represents the calculated state of a specific weight layer\n",
    "# activation_min/max: can be used to view the activation contrast in more detail, by default matplot sets min and max to the actual min and max values of the output\n",
    "# plt_num: used to plot out multiple different weight feature map sets on the same block, just extend the plt number for each new feature map entry\n",
    "\n",
    "def outputFeatureMap(image_input, tf_activation, activation_min=-1, activation_max=-1 ,plt_num=1):\n",
    "    # Here make sure to preprocess your image_input in a way your network expects\n",
    "    # with size, normalization, ect if needed\n",
    "    # image_input =\n",
    "    # Note: x should be the same name as your network's tensorflow data placeholder variable\n",
    "    # If you get an error tf_activation is not defined it maybe having trouble accessing the variable from inside a function\n",
    "    activation = tf_activation.eval(session=sess,feed_dict={x : image_input})\n",
    "    featuremaps = activation.shape[3]\n",
    "    plt.figure(plt_num, figsize=(15,15))\n",
    "    for featuremap in range(featuremaps):\n",
    "        plt.subplot(6,8, featuremap+1) # sets the number of feature maps to show on each row and column\n",
    "        plt.title('FeatureMap ' + str(featuremap)) # displays the feature map number\n",
    "        if activation_min != -1 & activation_max != -1:\n",
    "            plt.imshow(activation[0,:,:, featuremap], interpolation=\"nearest\", vmin =activation_min, vmax=activation_max, cmap=\"gray\")\n",
    "        elif activation_max != -1:\n",
    "            plt.imshow(activation[0,:,:, featuremap], interpolation=\"nearest\", vmax=activation_max, cmap=\"gray\")\n",
    "        elif activation_min !=-1:\n",
    "            plt.imshow(activation[0,:,:, featuremap], interpolation=\"nearest\", vmin=activation_min, cmap=\"gray\")\n",
    "        else:\n",
    "            plt.imshow(activation[0,:,:, featuremap], interpolation=\"nearest\", cmap=\"gray\")"
   ]
  },
  {
   "cell_type": "markdown",
   "metadata": {
    "deletable": true,
    "editable": true
   },
   "source": [
    "### Question 9\n",
    "\n",
    "Discuss how you used the visual output of your trained network's feature maps to show that it had learned to look for interesting characteristics in traffic sign images\n"
   ]
  },
  {
   "cell_type": "markdown",
   "metadata": {
    "deletable": true,
    "editable": true
   },
   "source": [
    "**Answer:**"
   ]
  },
  {
   "cell_type": "markdown",
   "metadata": {
    "deletable": true,
    "editable": true
   },
   "source": [
    "> **Note**: Once you have completed all of the code implementations and successfully answered each question above, you may finalize your work by exporting the iPython Notebook as an HTML document. You can do this by using the menu above and navigating to  \\n\",\n",
    "    \"**File -> Download as -> HTML (.html)**. Include the finished document along with this notebook as your submission."
   ]
  },
  {
   "cell_type": "markdown",
   "metadata": {
    "deletable": true,
    "editable": true
   },
   "source": [
    "### Project Writeup\n",
    "\n",
    "Once you have completed the code implementation, document your results in a project writeup using this [template](https://github.com/udacity/CarND-Traffic-Sign-Classifier-Project/blob/master/writeup_template.md) as a guide. The writeup can be in a markdown or pdf file. "
   ]
  }
 ],
 "metadata": {
  "anaconda-cloud": {},
  "kernelspec": {
   "display_name": "Python 3",
   "language": "python",
   "name": "python3"
  },
  "language_info": {
   "codemirror_mode": {
    "name": "ipython",
    "version": 3
   },
   "file_extension": ".py",
   "mimetype": "text/x-python",
   "name": "python",
   "nbconvert_exporter": "python",
   "pygments_lexer": "ipython3",
   "version": "3.6.0"
  },
  "widgets": {
   "state": {},
   "version": "1.1.2"
  }
 },
 "nbformat": 4,
 "nbformat_minor": 1
}
